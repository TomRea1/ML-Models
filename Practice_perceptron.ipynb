{
  "nbformat": 4,
  "nbformat_minor": 0,
  "metadata": {
    "colab": {
      "provenance": []
    },
    "kernelspec": {
      "name": "python3",
      "display_name": "Python 3"
    },
    "language_info": {
      "name": "python"
    }
  },
  "cells": [
    {
      "cell_type": "code",
      "execution_count": 84,
      "metadata": {
        "id": "8ZcvScsBfubl"
      },
      "outputs": [],
      "source": [
        "import numpy as np\n",
        "\n",
        "X = [1,2]\n",
        "y = [0]\n",
        "\n",
        "X = np.array(X)\n",
        "y = np.array(y)\n",
        "\n",
        "X = X.reshape(1, 2)\n"
      ]
    },
    {
      "cell_type": "code",
      "source": [
        "# Here's a perceptron I made to toy around with\n",
        "\n",
        "class Perceptron:\n",
        "    def __init__(self):\n",
        "        self.weights = None\n",
        "        self.bias = 0\n",
        "\n",
        "    def predict(self, X):\n",
        "        return np.where(np.dot(X, self.weights) + self.bias >= 0, 1, 0)\n",
        "\n",
        "    def fit(self, X, y, epochs=10, learning_rate=0.01):\n",
        "        self.weights = np.zeros(X.shape[1])  # Initialise weights\n",
        "        self.bias = 1  # Initialise bias\n",
        "\n",
        "        for epoch in range(epochs):\n",
        "            print(self.weights)\n",
        "            for i in range(X.shape[0]):\n",
        "                y_pred = self.predict(X[i])  # Predict\n",
        "                self.weights += learning_rate * (y[i] - y_pred) * X[i]  # Update weights\n",
        "                self.bias += learning_rate * (y[i] - y_pred)  # Update bias\n",
        "\n",
        "    def score(self, X, y):\n",
        "        y_pred = self.predict(X)  # Get predictions for the dataset\n",
        "        print(y_pred[0])\n",
        "        return np.mean(y_pred == y)  # Compute accuracy\n"
      ],
      "metadata": {
        "id": "MiYszYkghRXk"
      },
      "execution_count": 85,
      "outputs": []
    },
    {
      "cell_type": "code",
      "source": [
        "p = Perceptron()\n",
        "p.fit(X, y)\n",
        "p.score(X, y)"
      ],
      "metadata": {
        "colab": {
          "base_uri": "https://localhost:8080/"
        },
        "id": "Ajgpsh8Kia2D",
        "outputId": "a6b89202-e586-4395-86cf-0e3abac8cc8c"
      },
      "execution_count": 86,
      "outputs": [
        {
          "output_type": "stream",
          "name": "stdout",
          "text": [
            "[0. 0.]\n",
            "[-0.01 -0.02]\n",
            "[-0.02 -0.04]\n",
            "[-0.03 -0.06]\n",
            "[-0.04 -0.08]\n",
            "[-0.05 -0.1 ]\n",
            "[-0.06 -0.12]\n",
            "[-0.07 -0.14]\n",
            "[-0.08 -0.16]\n",
            "[-0.09 -0.18]\n",
            "1\n"
          ]
        },
        {
          "output_type": "execute_result",
          "data": {
            "text/plain": [
              "0.0"
            ]
          },
          "metadata": {},
          "execution_count": 86
        }
      ]
    }
  ]
}