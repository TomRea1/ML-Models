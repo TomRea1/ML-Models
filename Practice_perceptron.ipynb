{
  "nbformat": 4,
  "nbformat_minor": 0,
  "metadata": {
    "colab": {
      "provenance": []
    },
    "kernelspec": {
      "name": "python3",
      "display_name": "Python 3"
    },
    "language_info": {
      "name": "python"
    }
  },
  "cells": [
    {
      "cell_type": "code",
      "execution_count": 43,
      "metadata": {
        "id": "8ZcvScsBfubl"
      },
      "outputs": [],
      "source": [
        "import numpy as np\n",
        "\n",
        "X = [1,2]\n",
        "y = [10]\n",
        "\n",
        "X = np.array(X)\n",
        "y = np.array(y)\n",
        "\n",
        "X = X.reshape(1, 2)\n"
      ]
    },
    {
      "cell_type": "code",
      "source": [
        "# Here's a perceptron I made to toy around with\n",
        "\n",
        "class Perceptron():\n",
        "    def __init__(self):\n",
        "      self.weights = np.array\n",
        "      self.bias = np.array\n",
        "\n",
        "    def predict(self, x):\n",
        "      return np.dot(x, self.weights) + self.bias\n",
        "\n",
        "    def fit(self, X, y, epochs=100, learning_rate=0.1):\n",
        "      self.weights = np.zeros(X.shape[1])\n",
        "      self.bias = 1\n",
        "      for epoch in range(epochs):\n",
        "        print(self.weights)\n",
        "        for i in range(X.shape[0]):\n",
        "          y_pred = self.predict(X[i])\n",
        "          self.weights += learning_rate * (y[i] - y_pred) * X[i]\n",
        "          self.bias += learning_rate * (y[i] - y_pred)\n",
        "\n",
        "    def score(self, X, y):\n",
        "      y_pred = self.predict(X)\n",
        "      print(f\"Prediction = {y_pred[0]}\")\n",
        "      print(f\"Real = {y[0]}\")\n",
        "      return np.mean(y_pred == y)\n"
      ],
      "metadata": {
        "id": "MiYszYkghRXk"
      },
      "execution_count": 64,
      "outputs": []
    },
    {
      "cell_type": "code",
      "source": [
        "p = Perceptron()\n",
        "p.fit(X, y)\n",
        "p.score(X, y)"
      ],
      "metadata": {
        "colab": {
          "base_uri": "https://localhost:8080/"
        },
        "id": "Ajgpsh8Kia2D",
        "outputId": "30c9e656-08e4-4eec-d3f6-641728d65e3c"
      },
      "execution_count": 65,
      "outputs": [
        {
          "output_type": "stream",
          "name": "stdout",
          "text": [
            "[0. 0.]\n",
            "[0.9 1.8]\n",
            "[1.26 2.52]\n",
            "[1.404 2.808]\n",
            "[1.4616 2.9232]\n",
            "[1.48464 2.96928]\n",
            "[1.493856 2.987712]\n",
            "[1.4975424 2.9950848]\n",
            "[1.49901696 2.99803392]\n",
            "[1.49960678 2.99921357]\n",
            "[1.49984271 2.99968543]\n",
            "[1.49993709 2.99987417]\n",
            "[1.49997483 2.99994967]\n",
            "[1.49998993 2.99997987]\n",
            "[1.49999597 2.99999195]\n",
            "[1.49999839 2.99999678]\n",
            "[1.49999936 2.99999871]\n",
            "[1.49999974 2.99999948]\n",
            "[1.4999999  2.99999979]\n",
            "[1.49999996 2.99999992]\n",
            "[1.49999998 2.99999997]\n",
            "[1.49999999 2.99999999]\n",
            "[1.5        2.99999999]\n",
            "[1.5 3. ]\n",
            "[1.5 3. ]\n",
            "[1.5 3. ]\n",
            "[1.5 3. ]\n",
            "[1.5 3. ]\n",
            "[1.5 3. ]\n",
            "[1.5 3. ]\n",
            "[1.5 3. ]\n",
            "[1.5 3. ]\n",
            "[1.5 3. ]\n",
            "[1.5 3. ]\n",
            "[1.5 3. ]\n",
            "[1.5 3. ]\n",
            "[1.5 3. ]\n",
            "[1.5 3. ]\n",
            "[1.5 3. ]\n",
            "[1.5 3. ]\n",
            "[1.5 3. ]\n",
            "[1.5 3. ]\n",
            "[1.5 3. ]\n",
            "[1.5 3. ]\n",
            "[1.5 3. ]\n",
            "[1.5 3. ]\n",
            "[1.5 3. ]\n",
            "[1.5 3. ]\n",
            "[1.5 3. ]\n",
            "[1.5 3. ]\n",
            "[1.5 3. ]\n",
            "[1.5 3. ]\n",
            "[1.5 3. ]\n",
            "[1.5 3. ]\n",
            "[1.5 3. ]\n",
            "[1.5 3. ]\n",
            "[1.5 3. ]\n",
            "[1.5 3. ]\n",
            "[1.5 3. ]\n",
            "[1.5 3. ]\n",
            "[1.5 3. ]\n",
            "[1.5 3. ]\n",
            "[1.5 3. ]\n",
            "[1.5 3. ]\n",
            "[1.5 3. ]\n",
            "[1.5 3. ]\n",
            "[1.5 3. ]\n",
            "[1.5 3. ]\n",
            "[1.5 3. ]\n",
            "[1.5 3. ]\n",
            "[1.5 3. ]\n",
            "[1.5 3. ]\n",
            "[1.5 3. ]\n",
            "[1.5 3. ]\n",
            "[1.5 3. ]\n",
            "[1.5 3. ]\n",
            "[1.5 3. ]\n",
            "[1.5 3. ]\n",
            "[1.5 3. ]\n",
            "[1.5 3. ]\n",
            "[1.5 3. ]\n",
            "[1.5 3. ]\n",
            "[1.5 3. ]\n",
            "[1.5 3. ]\n",
            "[1.5 3. ]\n",
            "[1.5 3. ]\n",
            "[1.5 3. ]\n",
            "[1.5 3. ]\n",
            "[1.5 3. ]\n",
            "[1.5 3. ]\n",
            "[1.5 3. ]\n",
            "[1.5 3. ]\n",
            "[1.5 3. ]\n",
            "[1.5 3. ]\n",
            "[1.5 3. ]\n",
            "[1.5 3. ]\n",
            "[1.5 3. ]\n",
            "[1.5 3. ]\n",
            "[1.5 3. ]\n",
            "[1.5 3. ]\n",
            "Prediction = 10.0\n",
            "Real = 10\n"
          ]
        },
        {
          "output_type": "execute_result",
          "data": {
            "text/plain": [
              "1.0"
            ]
          },
          "metadata": {},
          "execution_count": 65
        }
      ]
    }
  ]
}